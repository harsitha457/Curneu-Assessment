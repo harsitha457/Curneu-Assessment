{
 "cells": [
  {
   "cell_type": "code",
   "execution_count": 24,
   "metadata": {},
   "outputs": [],
   "source": [
    "%matplotlib notebook\n",
    "import numpy as np\n",
    "import matplotlib.pyplot as plt\n",
    "import pandas as pd\n",
    "from sklearn.model_selection import train_test_split\n",
    "fruits = pd.read_excel (r'C:/Users/Admin/Downloads/SD03Q02/SD03Q02/fruits.xlsx')"
   ]
  },
  {
   "cell_type": "code",
   "execution_count": 202,
   "metadata": {},
   "outputs": [
    {
     "data": {
      "text/html": [
       "<div>\n",
       "<style scoped>\n",
       "    .dataframe tbody tr th:only-of-type {\n",
       "        vertical-align: middle;\n",
       "    }\n",
       "\n",
       "    .dataframe tbody tr th {\n",
       "        vertical-align: top;\n",
       "    }\n",
       "\n",
       "    .dataframe thead th {\n",
       "        text-align: right;\n",
       "    }\n",
       "</style>\n",
       "<table border=\"1\" class=\"dataframe\">\n",
       "  <thead>\n",
       "    <tr style=\"text-align: right;\">\n",
       "      <th></th>\n",
       "      <th>fruit_label</th>\n",
       "      <th>fruit_name</th>\n",
       "      <th>mass</th>\n",
       "      <th>width</th>\n",
       "      <th>height</th>\n",
       "      <th>color_score</th>\n",
       "    </tr>\n",
       "  </thead>\n",
       "  <tbody>\n",
       "    <tr>\n",
       "      <th>0</th>\n",
       "      <td>1</td>\n",
       "      <td>apple</td>\n",
       "      <td>192</td>\n",
       "      <td>8.4</td>\n",
       "      <td>7.3</td>\n",
       "      <td>0.55</td>\n",
       "    </tr>\n",
       "    <tr>\n",
       "      <th>1</th>\n",
       "      <td>1</td>\n",
       "      <td>apple</td>\n",
       "      <td>180</td>\n",
       "      <td>8.0</td>\n",
       "      <td>6.8</td>\n",
       "      <td>0.59</td>\n",
       "    </tr>\n",
       "    <tr>\n",
       "      <th>2</th>\n",
       "      <td>1</td>\n",
       "      <td>apple</td>\n",
       "      <td>176</td>\n",
       "      <td>7.4</td>\n",
       "      <td>7.2</td>\n",
       "      <td>0.60</td>\n",
       "    </tr>\n",
       "    <tr>\n",
       "      <th>3</th>\n",
       "      <td>2</td>\n",
       "      <td>mandarin</td>\n",
       "      <td>86</td>\n",
       "      <td>6.2</td>\n",
       "      <td>4.7</td>\n",
       "      <td>0.80</td>\n",
       "    </tr>\n",
       "    <tr>\n",
       "      <th>4</th>\n",
       "      <td>2</td>\n",
       "      <td>mandarin</td>\n",
       "      <td>84</td>\n",
       "      <td>6.0</td>\n",
       "      <td>4.6</td>\n",
       "      <td>0.79</td>\n",
       "    </tr>\n",
       "  </tbody>\n",
       "</table>\n",
       "</div>"
      ],
      "text/plain": [
       "   fruit_label fruit_name  mass  width  height  color_score\n",
       "0            1      apple   192    8.4     7.3         0.55\n",
       "1            1      apple   180    8.0     6.8         0.59\n",
       "2            1      apple   176    7.4     7.2         0.60\n",
       "3            2   mandarin    86    6.2     4.7         0.80\n",
       "4            2   mandarin    84    6.0     4.6         0.79"
      ]
     },
     "execution_count": 202,
     "metadata": {},
     "output_type": "execute_result"
    }
   ],
   "source": [
    "fruits.head()"
   ]
  },
  {
   "cell_type": "code",
   "execution_count": 203,
   "metadata": {},
   "outputs": [
    {
     "data": {
      "text/plain": [
       "<bound method NDFrame.describe of     fruit_label fruit_name  mass  width  height  color_score\n",
       "0             1      apple   192    8.4     7.3         0.55\n",
       "1             1      apple   180    8.0     6.8         0.59\n",
       "2             1      apple   176    7.4     7.2         0.60\n",
       "3             2   mandarin    86    6.2     4.7         0.80\n",
       "4             2   mandarin    84    6.0     4.6         0.79\n",
       "5             2   mandarin    80    5.8     4.3         0.77\n",
       "6             2   mandarin    80    5.9     4.3         0.81\n",
       "7             2   mandarin    76    5.8     4.0         0.81\n",
       "8             1      apple   178    7.1     7.8         0.92\n",
       "9             1      apple   172    7.4     7.0         0.89\n",
       "10            1      apple   166    6.9     7.3         0.93\n",
       "11            1      apple   172    7.1     7.6         0.92\n",
       "12            1      apple   154    7.0     7.1         0.88\n",
       "13            1      apple   164    7.3     7.7         0.70\n",
       "14            1      apple   152    7.6     7.3         0.69\n",
       "15            1      apple   156    7.7     7.1         0.69\n",
       "16            1      apple   156    7.6     7.5         0.67\n",
       "17            1      apple   168    7.5     7.6         0.73\n",
       "18            1      apple   162    7.5     7.1         0.83\n",
       "19            1      apple   162    7.4     7.2         0.85\n",
       "20            1      apple   160    7.5     7.5         0.86\n",
       "21            1      apple   156    7.4     7.4         0.84\n",
       "22            1      apple   140    7.3     7.1         0.87\n",
       "23            1      apple   170    7.6     7.9         0.88\n",
       "24            3     orange   342    9.0     9.4         0.75\n",
       "25            3     orange   356    9.2     9.2         0.75\n",
       "26            3     orange   362    9.6     9.2         0.74\n",
       "27            3     orange   204    7.5     9.2         0.77\n",
       "28            3     orange   140    6.7     7.1         0.72\n",
       "29            3     orange   160    7.0     7.4         0.81\n",
       "30            3     orange   158    7.1     7.5         0.79\n",
       "31            3     orange   210    7.8     8.0         0.82\n",
       "32            3     orange   164    7.2     7.0         0.80\n",
       "33            3     orange   190    7.5     8.1         0.74\n",
       "34            3     orange   142    7.6     7.8         0.75\n",
       "35            3     orange   150    7.1     7.9         0.75\n",
       "36            3     orange   160    7.1     7.6         0.76\n",
       "37            3     orange   154    7.3     7.3         0.79\n",
       "38            3     orange   158    7.2     7.8         0.77\n",
       "39            3     orange   144    6.8     7.4         0.75\n",
       "40            3     orange   154    7.1     7.5         0.78\n",
       "41            3     orange   180    7.6     8.2         0.79\n",
       "42            3     orange   154    7.2     7.2         0.82\n",
       "43            4      lemon   194    7.2    10.3         0.70\n",
       "44            4      lemon   200    7.3    10.5         0.72\n",
       "45            4      lemon   186    7.2     9.2         0.72\n",
       "46            4      lemon   216    7.3    10.2         0.71\n",
       "47            4      lemon   196    7.3     9.7         0.72\n",
       "48            4      lemon   174    7.3    10.1         0.72\n",
       "49            4      lemon   132    5.8     8.7         0.73\n",
       "50            4      lemon   130    6.0     8.2         0.71\n",
       "51            4      lemon   116    6.0     7.5         0.72\n",
       "52            4      lemon   118    5.9     8.0         0.72\n",
       "53            4      lemon   120    6.0     8.4         0.74\n",
       "54            4      lemon   116    6.1     8.5         0.71\n",
       "55            4      lemon   116    6.3     7.7         0.72\n",
       "56            4      lemon   116    5.9     8.1         0.73\n",
       "57            4      lemon   152    6.5     8.5         0.72\n",
       "58            4      lemon   118    6.1     8.1         0.70>"
      ]
     },
     "execution_count": 203,
     "metadata": {},
     "output_type": "execute_result"
    }
   ],
   "source": [
    "fruits.shape\n",
    "fruits.describe"
   ]
  },
  {
   "cell_type": "code",
   "execution_count": 204,
   "metadata": {},
   "outputs": [
    {
     "data": {
      "text/plain": [
       "fruit_name\n",
       "apple       19\n",
       "mandarin     5\n",
       "orange      19\n",
       "lemon       16\n",
       "dtype: int64"
      ]
     },
     "execution_count": 204,
     "metadata": {},
     "output_type": "execute_result"
    }
   ],
   "source": [
    "fname = fruits['fruit_name'].unique()\n",
    "fname\n",
    "fsize = fruits.groupby('fruit_name',sort=False).size()\n",
    "fsize"
   ]
  },
  {
   "cell_type": "code",
   "execution_count": 205,
   "metadata": {},
   "outputs": [
    {
     "data": {
      "text/plain": [
       "fruit_label    0\n",
       "fruit_name     0\n",
       "mass           0\n",
       "width          0\n",
       "height         0\n",
       "color_score    0\n",
       "dtype: int64"
      ]
     },
     "execution_count": 205,
     "metadata": {},
     "output_type": "execute_result"
    }
   ],
   "source": [
    "fruits.isnull().sum()"
   ]
  },
  {
   "cell_type": "code",
   "execution_count": 206,
   "metadata": {},
   "outputs": [
    {
     "name": "stdout",
     "output_type": "stream",
     "text": [
      "0\n"
     ]
    },
    {
     "data": {
      "text/html": [
       "<div>\n",
       "<style scoped>\n",
       "    .dataframe tbody tr th:only-of-type {\n",
       "        vertical-align: middle;\n",
       "    }\n",
       "\n",
       "    .dataframe tbody tr th {\n",
       "        vertical-align: top;\n",
       "    }\n",
       "\n",
       "    .dataframe thead th {\n",
       "        text-align: right;\n",
       "    }\n",
       "</style>\n",
       "<table border=\"1\" class=\"dataframe\">\n",
       "  <thead>\n",
       "    <tr style=\"text-align: right;\">\n",
       "      <th></th>\n",
       "      <th>fruit_label</th>\n",
       "      <th>fruit_name</th>\n",
       "      <th>mass</th>\n",
       "      <th>width</th>\n",
       "      <th>height</th>\n",
       "      <th>color_score</th>\n",
       "    </tr>\n",
       "  </thead>\n",
       "  <tbody>\n",
       "  </tbody>\n",
       "</table>\n",
       "</div>"
      ],
      "text/plain": [
       "Empty DataFrame\n",
       "Columns: [fruit_label, fruit_name, mass, width, height, color_score]\n",
       "Index: []"
      ]
     },
     "execution_count": 206,
     "metadata": {},
     "output_type": "execute_result"
    }
   ],
   "source": [
    "duplicate = fruits.duplicated()\n",
    "print(duplicate.sum())\n",
    "fruits[duplicate]"
   ]
  },
  {
   "cell_type": "code",
   "execution_count": 207,
   "metadata": {},
   "outputs": [
    {
     "data": {
      "application/javascript": [
       "/* Put everything inside the global mpl namespace */\n",
       "window.mpl = {};\n",
       "\n",
       "\n",
       "mpl.get_websocket_type = function() {\n",
       "    if (typeof(WebSocket) !== 'undefined') {\n",
       "        return WebSocket;\n",
       "    } else if (typeof(MozWebSocket) !== 'undefined') {\n",
       "        return MozWebSocket;\n",
       "    } else {\n",
       "        alert('Your browser does not have WebSocket support. ' +\n",
       "              'Please try Chrome, Safari or Firefox ≥ 6. ' +\n",
       "              'Firefox 4 and 5 are also supported but you ' +\n",
       "              'have to enable WebSockets in about:config.');\n",
       "    };\n",
       "}\n",
       "\n",
       "mpl.figure = function(figure_id, websocket, ondownload, parent_element) {\n",
       "    this.id = figure_id;\n",
       "\n",
       "    this.ws = websocket;\n",
       "\n",
       "    this.supports_binary = (this.ws.binaryType != undefined);\n",
       "\n",
       "    if (!this.supports_binary) {\n",
       "        var warnings = document.getElementById(\"mpl-warnings\");\n",
       "        if (warnings) {\n",
       "            warnings.style.display = 'block';\n",
       "            warnings.textContent = (\n",
       "                \"This browser does not support binary websocket messages. \" +\n",
       "                    \"Performance may be slow.\");\n",
       "        }\n",
       "    }\n",
       "\n",
       "    this.imageObj = new Image();\n",
       "\n",
       "    this.context = undefined;\n",
       "    this.message = undefined;\n",
       "    this.canvas = undefined;\n",
       "    this.rubberband_canvas = undefined;\n",
       "    this.rubberband_context = undefined;\n",
       "    this.format_dropdown = undefined;\n",
       "\n",
       "    this.image_mode = 'full';\n",
       "\n",
       "    this.root = $('<div/>');\n",
       "    this._root_extra_style(this.root)\n",
       "    this.root.attr('style', 'display: inline-block');\n",
       "\n",
       "    $(parent_element).append(this.root);\n",
       "\n",
       "    this._init_header(this);\n",
       "    this._init_canvas(this);\n",
       "    this._init_toolbar(this);\n",
       "\n",
       "    var fig = this;\n",
       "\n",
       "    this.waiting = false;\n",
       "\n",
       "    this.ws.onopen =  function () {\n",
       "            fig.send_message(\"supports_binary\", {value: fig.supports_binary});\n",
       "            fig.send_message(\"send_image_mode\", {});\n",
       "            if (mpl.ratio != 1) {\n",
       "                fig.send_message(\"set_dpi_ratio\", {'dpi_ratio': mpl.ratio});\n",
       "            }\n",
       "            fig.send_message(\"refresh\", {});\n",
       "        }\n",
       "\n",
       "    this.imageObj.onload = function() {\n",
       "            if (fig.image_mode == 'full') {\n",
       "                // Full images could contain transparency (where diff images\n",
       "                // almost always do), so we need to clear the canvas so that\n",
       "                // there is no ghosting.\n",
       "                fig.context.clearRect(0, 0, fig.canvas.width, fig.canvas.height);\n",
       "            }\n",
       "            fig.context.drawImage(fig.imageObj, 0, 0);\n",
       "        };\n",
       "\n",
       "    this.imageObj.onunload = function() {\n",
       "        fig.ws.close();\n",
       "    }\n",
       "\n",
       "    this.ws.onmessage = this._make_on_message_function(this);\n",
       "\n",
       "    this.ondownload = ondownload;\n",
       "}\n",
       "\n",
       "mpl.figure.prototype._init_header = function() {\n",
       "    var titlebar = $(\n",
       "        '<div class=\"ui-dialog-titlebar ui-widget-header ui-corner-all ' +\n",
       "        'ui-helper-clearfix\"/>');\n",
       "    var titletext = $(\n",
       "        '<div class=\"ui-dialog-title\" style=\"width: 100%; ' +\n",
       "        'text-align: center; padding: 3px;\"/>');\n",
       "    titlebar.append(titletext)\n",
       "    this.root.append(titlebar);\n",
       "    this.header = titletext[0];\n",
       "}\n",
       "\n",
       "\n",
       "\n",
       "mpl.figure.prototype._canvas_extra_style = function(canvas_div) {\n",
       "\n",
       "}\n",
       "\n",
       "\n",
       "mpl.figure.prototype._root_extra_style = function(canvas_div) {\n",
       "\n",
       "}\n",
       "\n",
       "mpl.figure.prototype._init_canvas = function() {\n",
       "    var fig = this;\n",
       "\n",
       "    var canvas_div = $('<div/>');\n",
       "\n",
       "    canvas_div.attr('style', 'position: relative; clear: both; outline: 0');\n",
       "\n",
       "    function canvas_keyboard_event(event) {\n",
       "        return fig.key_event(event, event['data']);\n",
       "    }\n",
       "\n",
       "    canvas_div.keydown('key_press', canvas_keyboard_event);\n",
       "    canvas_div.keyup('key_release', canvas_keyboard_event);\n",
       "    this.canvas_div = canvas_div\n",
       "    this._canvas_extra_style(canvas_div)\n",
       "    this.root.append(canvas_div);\n",
       "\n",
       "    var canvas = $('<canvas/>');\n",
       "    canvas.addClass('mpl-canvas');\n",
       "    canvas.attr('style', \"left: 0; top: 0; z-index: 0; outline: 0\")\n",
       "\n",
       "    this.canvas = canvas[0];\n",
       "    this.context = canvas[0].getContext(\"2d\");\n",
       "\n",
       "    var backingStore = this.context.backingStorePixelRatio ||\n",
       "\tthis.context.webkitBackingStorePixelRatio ||\n",
       "\tthis.context.mozBackingStorePixelRatio ||\n",
       "\tthis.context.msBackingStorePixelRatio ||\n",
       "\tthis.context.oBackingStorePixelRatio ||\n",
       "\tthis.context.backingStorePixelRatio || 1;\n",
       "\n",
       "    mpl.ratio = (window.devicePixelRatio || 1) / backingStore;\n",
       "\n",
       "    var rubberband = $('<canvas/>');\n",
       "    rubberband.attr('style', \"position: absolute; left: 0; top: 0; z-index: 1;\")\n",
       "\n",
       "    var pass_mouse_events = true;\n",
       "\n",
       "    canvas_div.resizable({\n",
       "        start: function(event, ui) {\n",
       "            pass_mouse_events = false;\n",
       "        },\n",
       "        resize: function(event, ui) {\n",
       "            fig.request_resize(ui.size.width, ui.size.height);\n",
       "        },\n",
       "        stop: function(event, ui) {\n",
       "            pass_mouse_events = true;\n",
       "            fig.request_resize(ui.size.width, ui.size.height);\n",
       "        },\n",
       "    });\n",
       "\n",
       "    function mouse_event_fn(event) {\n",
       "        if (pass_mouse_events)\n",
       "            return fig.mouse_event(event, event['data']);\n",
       "    }\n",
       "\n",
       "    rubberband.mousedown('button_press', mouse_event_fn);\n",
       "    rubberband.mouseup('button_release', mouse_event_fn);\n",
       "    // Throttle sequential mouse events to 1 every 20ms.\n",
       "    rubberband.mousemove('motion_notify', mouse_event_fn);\n",
       "\n",
       "    rubberband.mouseenter('figure_enter', mouse_event_fn);\n",
       "    rubberband.mouseleave('figure_leave', mouse_event_fn);\n",
       "\n",
       "    canvas_div.on(\"wheel\", function (event) {\n",
       "        event = event.originalEvent;\n",
       "        event['data'] = 'scroll'\n",
       "        if (event.deltaY < 0) {\n",
       "            event.step = 1;\n",
       "        } else {\n",
       "            event.step = -1;\n",
       "        }\n",
       "        mouse_event_fn(event);\n",
       "    });\n",
       "\n",
       "    canvas_div.append(canvas);\n",
       "    canvas_div.append(rubberband);\n",
       "\n",
       "    this.rubberband = rubberband;\n",
       "    this.rubberband_canvas = rubberband[0];\n",
       "    this.rubberband_context = rubberband[0].getContext(\"2d\");\n",
       "    this.rubberband_context.strokeStyle = \"#000000\";\n",
       "\n",
       "    this._resize_canvas = function(width, height) {\n",
       "        // Keep the size of the canvas, canvas container, and rubber band\n",
       "        // canvas in synch.\n",
       "        canvas_div.css('width', width)\n",
       "        canvas_div.css('height', height)\n",
       "\n",
       "        canvas.attr('width', width * mpl.ratio);\n",
       "        canvas.attr('height', height * mpl.ratio);\n",
       "        canvas.attr('style', 'width: ' + width + 'px; height: ' + height + 'px;');\n",
       "\n",
       "        rubberband.attr('width', width);\n",
       "        rubberband.attr('height', height);\n",
       "    }\n",
       "\n",
       "    // Set the figure to an initial 600x600px, this will subsequently be updated\n",
       "    // upon first draw.\n",
       "    this._resize_canvas(600, 600);\n",
       "\n",
       "    // Disable right mouse context menu.\n",
       "    $(this.rubberband_canvas).bind(\"contextmenu\",function(e){\n",
       "        return false;\n",
       "    });\n",
       "\n",
       "    function set_focus () {\n",
       "        canvas.focus();\n",
       "        canvas_div.focus();\n",
       "    }\n",
       "\n",
       "    window.setTimeout(set_focus, 100);\n",
       "}\n",
       "\n",
       "mpl.figure.prototype._init_toolbar = function() {\n",
       "    var fig = this;\n",
       "\n",
       "    var nav_element = $('<div/>');\n",
       "    nav_element.attr('style', 'width: 100%');\n",
       "    this.root.append(nav_element);\n",
       "\n",
       "    // Define a callback function for later on.\n",
       "    function toolbar_event(event) {\n",
       "        return fig.toolbar_button_onclick(event['data']);\n",
       "    }\n",
       "    function toolbar_mouse_event(event) {\n",
       "        return fig.toolbar_button_onmouseover(event['data']);\n",
       "    }\n",
       "\n",
       "    for(var toolbar_ind in mpl.toolbar_items) {\n",
       "        var name = mpl.toolbar_items[toolbar_ind][0];\n",
       "        var tooltip = mpl.toolbar_items[toolbar_ind][1];\n",
       "        var image = mpl.toolbar_items[toolbar_ind][2];\n",
       "        var method_name = mpl.toolbar_items[toolbar_ind][3];\n",
       "\n",
       "        if (!name) {\n",
       "            // put a spacer in here.\n",
       "            continue;\n",
       "        }\n",
       "        var button = $('<button/>');\n",
       "        button.addClass('ui-button ui-widget ui-state-default ui-corner-all ' +\n",
       "                        'ui-button-icon-only');\n",
       "        button.attr('role', 'button');\n",
       "        button.attr('aria-disabled', 'false');\n",
       "        button.click(method_name, toolbar_event);\n",
       "        button.mouseover(tooltip, toolbar_mouse_event);\n",
       "\n",
       "        var icon_img = $('<span/>');\n",
       "        icon_img.addClass('ui-button-icon-primary ui-icon');\n",
       "        icon_img.addClass(image);\n",
       "        icon_img.addClass('ui-corner-all');\n",
       "\n",
       "        var tooltip_span = $('<span/>');\n",
       "        tooltip_span.addClass('ui-button-text');\n",
       "        tooltip_span.html(tooltip);\n",
       "\n",
       "        button.append(icon_img);\n",
       "        button.append(tooltip_span);\n",
       "\n",
       "        nav_element.append(button);\n",
       "    }\n",
       "\n",
       "    var fmt_picker_span = $('<span/>');\n",
       "\n",
       "    var fmt_picker = $('<select/>');\n",
       "    fmt_picker.addClass('mpl-toolbar-option ui-widget ui-widget-content');\n",
       "    fmt_picker_span.append(fmt_picker);\n",
       "    nav_element.append(fmt_picker_span);\n",
       "    this.format_dropdown = fmt_picker[0];\n",
       "\n",
       "    for (var ind in mpl.extensions) {\n",
       "        var fmt = mpl.extensions[ind];\n",
       "        var option = $(\n",
       "            '<option/>', {selected: fmt === mpl.default_extension}).html(fmt);\n",
       "        fmt_picker.append(option);\n",
       "    }\n",
       "\n",
       "    // Add hover states to the ui-buttons\n",
       "    $( \".ui-button\" ).hover(\n",
       "        function() { $(this).addClass(\"ui-state-hover\");},\n",
       "        function() { $(this).removeClass(\"ui-state-hover\");}\n",
       "    );\n",
       "\n",
       "    var status_bar = $('<span class=\"mpl-message\"/>');\n",
       "    nav_element.append(status_bar);\n",
       "    this.message = status_bar[0];\n",
       "}\n",
       "\n",
       "mpl.figure.prototype.request_resize = function(x_pixels, y_pixels) {\n",
       "    // Request matplotlib to resize the figure. Matplotlib will then trigger a resize in the client,\n",
       "    // which will in turn request a refresh of the image.\n",
       "    this.send_message('resize', {'width': x_pixels, 'height': y_pixels});\n",
       "}\n",
       "\n",
       "mpl.figure.prototype.send_message = function(type, properties) {\n",
       "    properties['type'] = type;\n",
       "    properties['figure_id'] = this.id;\n",
       "    this.ws.send(JSON.stringify(properties));\n",
       "}\n",
       "\n",
       "mpl.figure.prototype.send_draw_message = function() {\n",
       "    if (!this.waiting) {\n",
       "        this.waiting = true;\n",
       "        this.ws.send(JSON.stringify({type: \"draw\", figure_id: this.id}));\n",
       "    }\n",
       "}\n",
       "\n",
       "\n",
       "mpl.figure.prototype.handle_save = function(fig, msg) {\n",
       "    var format_dropdown = fig.format_dropdown;\n",
       "    var format = format_dropdown.options[format_dropdown.selectedIndex].value;\n",
       "    fig.ondownload(fig, format);\n",
       "}\n",
       "\n",
       "\n",
       "mpl.figure.prototype.handle_resize = function(fig, msg) {\n",
       "    var size = msg['size'];\n",
       "    if (size[0] != fig.canvas.width || size[1] != fig.canvas.height) {\n",
       "        fig._resize_canvas(size[0], size[1]);\n",
       "        fig.send_message(\"refresh\", {});\n",
       "    };\n",
       "}\n",
       "\n",
       "mpl.figure.prototype.handle_rubberband = function(fig, msg) {\n",
       "    var x0 = msg['x0'] / mpl.ratio;\n",
       "    var y0 = (fig.canvas.height - msg['y0']) / mpl.ratio;\n",
       "    var x1 = msg['x1'] / mpl.ratio;\n",
       "    var y1 = (fig.canvas.height - msg['y1']) / mpl.ratio;\n",
       "    x0 = Math.floor(x0) + 0.5;\n",
       "    y0 = Math.floor(y0) + 0.5;\n",
       "    x1 = Math.floor(x1) + 0.5;\n",
       "    y1 = Math.floor(y1) + 0.5;\n",
       "    var min_x = Math.min(x0, x1);\n",
       "    var min_y = Math.min(y0, y1);\n",
       "    var width = Math.abs(x1 - x0);\n",
       "    var height = Math.abs(y1 - y0);\n",
       "\n",
       "    fig.rubberband_context.clearRect(\n",
       "        0, 0, fig.canvas.width / mpl.ratio, fig.canvas.height / mpl.ratio);\n",
       "\n",
       "    fig.rubberband_context.strokeRect(min_x, min_y, width, height);\n",
       "}\n",
       "\n",
       "mpl.figure.prototype.handle_figure_label = function(fig, msg) {\n",
       "    // Updates the figure title.\n",
       "    fig.header.textContent = msg['label'];\n",
       "}\n",
       "\n",
       "mpl.figure.prototype.handle_cursor = function(fig, msg) {\n",
       "    var cursor = msg['cursor'];\n",
       "    switch(cursor)\n",
       "    {\n",
       "    case 0:\n",
       "        cursor = 'pointer';\n",
       "        break;\n",
       "    case 1:\n",
       "        cursor = 'default';\n",
       "        break;\n",
       "    case 2:\n",
       "        cursor = 'crosshair';\n",
       "        break;\n",
       "    case 3:\n",
       "        cursor = 'move';\n",
       "        break;\n",
       "    }\n",
       "    fig.rubberband_canvas.style.cursor = cursor;\n",
       "}\n",
       "\n",
       "mpl.figure.prototype.handle_message = function(fig, msg) {\n",
       "    fig.message.textContent = msg['message'];\n",
       "}\n",
       "\n",
       "mpl.figure.prototype.handle_draw = function(fig, msg) {\n",
       "    // Request the server to send over a new figure.\n",
       "    fig.send_draw_message();\n",
       "}\n",
       "\n",
       "mpl.figure.prototype.handle_image_mode = function(fig, msg) {\n",
       "    fig.image_mode = msg['mode'];\n",
       "}\n",
       "\n",
       "mpl.figure.prototype.updated_canvas_event = function() {\n",
       "    // Called whenever the canvas gets updated.\n",
       "    this.send_message(\"ack\", {});\n",
       "}\n",
       "\n",
       "// A function to construct a web socket function for onmessage handling.\n",
       "// Called in the figure constructor.\n",
       "mpl.figure.prototype._make_on_message_function = function(fig) {\n",
       "    return function socket_on_message(evt) {\n",
       "        if (evt.data instanceof Blob) {\n",
       "            /* FIXME: We get \"Resource interpreted as Image but\n",
       "             * transferred with MIME type text/plain:\" errors on\n",
       "             * Chrome.  But how to set the MIME type?  It doesn't seem\n",
       "             * to be part of the websocket stream */\n",
       "            evt.data.type = \"image/png\";\n",
       "\n",
       "            /* Free the memory for the previous frames */\n",
       "            if (fig.imageObj.src) {\n",
       "                (window.URL || window.webkitURL).revokeObjectURL(\n",
       "                    fig.imageObj.src);\n",
       "            }\n",
       "\n",
       "            fig.imageObj.src = (window.URL || window.webkitURL).createObjectURL(\n",
       "                evt.data);\n",
       "            fig.updated_canvas_event();\n",
       "            fig.waiting = false;\n",
       "            return;\n",
       "        }\n",
       "        else if (typeof evt.data === 'string' && evt.data.slice(0, 21) == \"data:image/png;base64\") {\n",
       "            fig.imageObj.src = evt.data;\n",
       "            fig.updated_canvas_event();\n",
       "            fig.waiting = false;\n",
       "            return;\n",
       "        }\n",
       "\n",
       "        var msg = JSON.parse(evt.data);\n",
       "        var msg_type = msg['type'];\n",
       "\n",
       "        // Call the  \"handle_{type}\" callback, which takes\n",
       "        // the figure and JSON message as its only arguments.\n",
       "        try {\n",
       "            var callback = fig[\"handle_\" + msg_type];\n",
       "        } catch (e) {\n",
       "            console.log(\"No handler for the '\" + msg_type + \"' message type: \", msg);\n",
       "            return;\n",
       "        }\n",
       "\n",
       "        if (callback) {\n",
       "            try {\n",
       "                // console.log(\"Handling '\" + msg_type + \"' message: \", msg);\n",
       "                callback(fig, msg);\n",
       "            } catch (e) {\n",
       "                console.log(\"Exception inside the 'handler_\" + msg_type + \"' callback:\", e, e.stack, msg);\n",
       "            }\n",
       "        }\n",
       "    };\n",
       "}\n",
       "\n",
       "// from http://stackoverflow.com/questions/1114465/getting-mouse-location-in-canvas\n",
       "mpl.findpos = function(e) {\n",
       "    //this section is from http://www.quirksmode.org/js/events_properties.html\n",
       "    var targ;\n",
       "    if (!e)\n",
       "        e = window.event;\n",
       "    if (e.target)\n",
       "        targ = e.target;\n",
       "    else if (e.srcElement)\n",
       "        targ = e.srcElement;\n",
       "    if (targ.nodeType == 3) // defeat Safari bug\n",
       "        targ = targ.parentNode;\n",
       "\n",
       "    // jQuery normalizes the pageX and pageY\n",
       "    // pageX,Y are the mouse positions relative to the document\n",
       "    // offset() returns the position of the element relative to the document\n",
       "    var x = e.pageX - $(targ).offset().left;\n",
       "    var y = e.pageY - $(targ).offset().top;\n",
       "\n",
       "    return {\"x\": x, \"y\": y};\n",
       "};\n",
       "\n",
       "/*\n",
       " * return a copy of an object with only non-object keys\n",
       " * we need this to avoid circular references\n",
       " * http://stackoverflow.com/a/24161582/3208463\n",
       " */\n",
       "function simpleKeys (original) {\n",
       "  return Object.keys(original).reduce(function (obj, key) {\n",
       "    if (typeof original[key] !== 'object')\n",
       "        obj[key] = original[key]\n",
       "    return obj;\n",
       "  }, {});\n",
       "}\n",
       "\n",
       "mpl.figure.prototype.mouse_event = function(event, name) {\n",
       "    var canvas_pos = mpl.findpos(event)\n",
       "\n",
       "    if (name === 'button_press')\n",
       "    {\n",
       "        this.canvas.focus();\n",
       "        this.canvas_div.focus();\n",
       "    }\n",
       "\n",
       "    var x = canvas_pos.x * mpl.ratio;\n",
       "    var y = canvas_pos.y * mpl.ratio;\n",
       "\n",
       "    this.send_message(name, {x: x, y: y, button: event.button,\n",
       "                             step: event.step,\n",
       "                             guiEvent: simpleKeys(event)});\n",
       "\n",
       "    /* This prevents the web browser from automatically changing to\n",
       "     * the text insertion cursor when the button is pressed.  We want\n",
       "     * to control all of the cursor setting manually through the\n",
       "     * 'cursor' event from matplotlib */\n",
       "    event.preventDefault();\n",
       "    return false;\n",
       "}\n",
       "\n",
       "mpl.figure.prototype._key_event_extra = function(event, name) {\n",
       "    // Handle any extra behaviour associated with a key event\n",
       "}\n",
       "\n",
       "mpl.figure.prototype.key_event = function(event, name) {\n",
       "\n",
       "    // Prevent repeat events\n",
       "    if (name == 'key_press')\n",
       "    {\n",
       "        if (event.which === this._key)\n",
       "            return;\n",
       "        else\n",
       "            this._key = event.which;\n",
       "    }\n",
       "    if (name == 'key_release')\n",
       "        this._key = null;\n",
       "\n",
       "    var value = '';\n",
       "    if (event.ctrlKey && event.which != 17)\n",
       "        value += \"ctrl+\";\n",
       "    if (event.altKey && event.which != 18)\n",
       "        value += \"alt+\";\n",
       "    if (event.shiftKey && event.which != 16)\n",
       "        value += \"shift+\";\n",
       "\n",
       "    value += 'k';\n",
       "    value += event.which.toString();\n",
       "\n",
       "    this._key_event_extra(event, name);\n",
       "\n",
       "    this.send_message(name, {key: value,\n",
       "                             guiEvent: simpleKeys(event)});\n",
       "    return false;\n",
       "}\n",
       "\n",
       "mpl.figure.prototype.toolbar_button_onclick = function(name) {\n",
       "    if (name == 'download') {\n",
       "        this.handle_save(this, null);\n",
       "    } else {\n",
       "        this.send_message(\"toolbar_button\", {name: name});\n",
       "    }\n",
       "};\n",
       "\n",
       "mpl.figure.prototype.toolbar_button_onmouseover = function(tooltip) {\n",
       "    this.message.textContent = tooltip;\n",
       "};\n",
       "mpl.toolbar_items = [[\"Home\", \"Reset original view\", \"fa fa-home icon-home\", \"home\"], [\"Back\", \"Back to previous view\", \"fa fa-arrow-left icon-arrow-left\", \"back\"], [\"Forward\", \"Forward to next view\", \"fa fa-arrow-right icon-arrow-right\", \"forward\"], [\"\", \"\", \"\", \"\"], [\"Pan\", \"Pan axes with left mouse, zoom with right\", \"fa fa-arrows icon-move\", \"pan\"], [\"Zoom\", \"Zoom to rectangle\", \"fa fa-square-o icon-check-empty\", \"zoom\"], [\"\", \"\", \"\", \"\"], [\"Download\", \"Download plot\", \"fa fa-floppy-o icon-save\", \"download\"]];\n",
       "\n",
       "mpl.extensions = [\"eps\", \"jpeg\", \"pdf\", \"png\", \"ps\", \"raw\", \"svg\", \"tif\"];\n",
       "\n",
       "mpl.default_extension = \"png\";var comm_websocket_adapter = function(comm) {\n",
       "    // Create a \"websocket\"-like object which calls the given IPython comm\n",
       "    // object with the appropriate methods. Currently this is a non binary\n",
       "    // socket, so there is still some room for performance tuning.\n",
       "    var ws = {};\n",
       "\n",
       "    ws.close = function() {\n",
       "        comm.close()\n",
       "    };\n",
       "    ws.send = function(m) {\n",
       "        //console.log('sending', m);\n",
       "        comm.send(m);\n",
       "    };\n",
       "    // Register the callback with on_msg.\n",
       "    comm.on_msg(function(msg) {\n",
       "        //console.log('receiving', msg['content']['data'], msg);\n",
       "        // Pass the mpl event to the overridden (by mpl) onmessage function.\n",
       "        ws.onmessage(msg['content']['data'])\n",
       "    });\n",
       "    return ws;\n",
       "}\n",
       "\n",
       "mpl.mpl_figure_comm = function(comm, msg) {\n",
       "    // This is the function which gets called when the mpl process\n",
       "    // starts-up an IPython Comm through the \"matplotlib\" channel.\n",
       "\n",
       "    var id = msg.content.data.id;\n",
       "    // Get hold of the div created by the display call when the Comm\n",
       "    // socket was opened in Python.\n",
       "    var element = $(\"#\" + id);\n",
       "    var ws_proxy = comm_websocket_adapter(comm)\n",
       "\n",
       "    function ondownload(figure, format) {\n",
       "        window.open(figure.imageObj.src);\n",
       "    }\n",
       "\n",
       "    var fig = new mpl.figure(id, ws_proxy,\n",
       "                           ondownload,\n",
       "                           element.get(0));\n",
       "\n",
       "    // Call onopen now - mpl needs it, as it is assuming we've passed it a real\n",
       "    // web socket which is closed, not our websocket->open comm proxy.\n",
       "    ws_proxy.onopen();\n",
       "\n",
       "    fig.parent_element = element.get(0);\n",
       "    fig.cell_info = mpl.find_output_cell(\"<div id='\" + id + \"'></div>\");\n",
       "    if (!fig.cell_info) {\n",
       "        console.error(\"Failed to find cell for figure\", id, fig);\n",
       "        return;\n",
       "    }\n",
       "\n",
       "    var output_index = fig.cell_info[2]\n",
       "    var cell = fig.cell_info[0];\n",
       "\n",
       "};\n",
       "\n",
       "mpl.figure.prototype.handle_close = function(fig, msg) {\n",
       "    var width = fig.canvas.width/mpl.ratio\n",
       "    fig.root.unbind('remove')\n",
       "\n",
       "    // Update the output cell to use the data from the current canvas.\n",
       "    fig.push_to_output();\n",
       "    var dataURL = fig.canvas.toDataURL();\n",
       "    // Re-enable the keyboard manager in IPython - without this line, in FF,\n",
       "    // the notebook keyboard shortcuts fail.\n",
       "    IPython.keyboard_manager.enable()\n",
       "    $(fig.parent_element).html('<img src=\"' + dataURL + '\" width=\"' + width + '\">');\n",
       "    fig.close_ws(fig, msg);\n",
       "}\n",
       "\n",
       "mpl.figure.prototype.close_ws = function(fig, msg){\n",
       "    fig.send_message('closing', msg);\n",
       "    // fig.ws.close()\n",
       "}\n",
       "\n",
       "mpl.figure.prototype.push_to_output = function(remove_interactive) {\n",
       "    // Turn the data on the canvas into data in the output cell.\n",
       "    var width = this.canvas.width/mpl.ratio\n",
       "    var dataURL = this.canvas.toDataURL();\n",
       "    this.cell_info[1]['text/html'] = '<img src=\"' + dataURL + '\" width=\"' + width + '\">';\n",
       "}\n",
       "\n",
       "mpl.figure.prototype.updated_canvas_event = function() {\n",
       "    // Tell IPython that the notebook contents must change.\n",
       "    IPython.notebook.set_dirty(true);\n",
       "    this.send_message(\"ack\", {});\n",
       "    var fig = this;\n",
       "    // Wait a second, then push the new image to the DOM so\n",
       "    // that it is saved nicely (might be nice to debounce this).\n",
       "    setTimeout(function () { fig.push_to_output() }, 1000);\n",
       "}\n",
       "\n",
       "mpl.figure.prototype._init_toolbar = function() {\n",
       "    var fig = this;\n",
       "\n",
       "    var nav_element = $('<div/>');\n",
       "    nav_element.attr('style', 'width: 100%');\n",
       "    this.root.append(nav_element);\n",
       "\n",
       "    // Define a callback function for later on.\n",
       "    function toolbar_event(event) {\n",
       "        return fig.toolbar_button_onclick(event['data']);\n",
       "    }\n",
       "    function toolbar_mouse_event(event) {\n",
       "        return fig.toolbar_button_onmouseover(event['data']);\n",
       "    }\n",
       "\n",
       "    for(var toolbar_ind in mpl.toolbar_items){\n",
       "        var name = mpl.toolbar_items[toolbar_ind][0];\n",
       "        var tooltip = mpl.toolbar_items[toolbar_ind][1];\n",
       "        var image = mpl.toolbar_items[toolbar_ind][2];\n",
       "        var method_name = mpl.toolbar_items[toolbar_ind][3];\n",
       "\n",
       "        if (!name) { continue; };\n",
       "\n",
       "        var button = $('<button class=\"btn btn-default\" href=\"#\" title=\"' + name + '\"><i class=\"fa ' + image + ' fa-lg\"></i></button>');\n",
       "        button.click(method_name, toolbar_event);\n",
       "        button.mouseover(tooltip, toolbar_mouse_event);\n",
       "        nav_element.append(button);\n",
       "    }\n",
       "\n",
       "    // Add the status bar.\n",
       "    var status_bar = $('<span class=\"mpl-message\" style=\"text-align:right; float: right;\"/>');\n",
       "    nav_element.append(status_bar);\n",
       "    this.message = status_bar[0];\n",
       "\n",
       "    // Add the close button to the window.\n",
       "    var buttongrp = $('<div class=\"btn-group inline pull-right\"></div>');\n",
       "    var button = $('<button class=\"btn btn-mini btn-primary\" href=\"#\" title=\"Stop Interaction\"><i class=\"fa fa-power-off icon-remove icon-large\"></i></button>');\n",
       "    button.click(function (evt) { fig.handle_close(fig, {}); } );\n",
       "    button.mouseover('Stop Interaction', toolbar_mouse_event);\n",
       "    buttongrp.append(button);\n",
       "    var titlebar = this.root.find($('.ui-dialog-titlebar'));\n",
       "    titlebar.prepend(buttongrp);\n",
       "}\n",
       "\n",
       "mpl.figure.prototype._root_extra_style = function(el){\n",
       "    var fig = this\n",
       "    el.on(\"remove\", function(){\n",
       "\tfig.close_ws(fig, {});\n",
       "    });\n",
       "}\n",
       "\n",
       "mpl.figure.prototype._canvas_extra_style = function(el){\n",
       "    // this is important to make the div 'focusable\n",
       "    el.attr('tabindex', 0)\n",
       "    // reach out to IPython and tell the keyboard manager to turn it's self\n",
       "    // off when our div gets focus\n",
       "\n",
       "    // location in version 3\n",
       "    if (IPython.notebook.keyboard_manager) {\n",
       "        IPython.notebook.keyboard_manager.register_events(el);\n",
       "    }\n",
       "    else {\n",
       "        // location in version 2\n",
       "        IPython.keyboard_manager.register_events(el);\n",
       "    }\n",
       "\n",
       "}\n",
       "\n",
       "mpl.figure.prototype._key_event_extra = function(event, name) {\n",
       "    var manager = IPython.notebook.keyboard_manager;\n",
       "    if (!manager)\n",
       "        manager = IPython.keyboard_manager;\n",
       "\n",
       "    // Check for shift+enter\n",
       "    if (event.shiftKey && event.which == 13) {\n",
       "        this.canvas_div.blur();\n",
       "        // select the cell after this one\n",
       "        var index = IPython.notebook.find_cell_index(this.cell_info[0]);\n",
       "        IPython.notebook.select(index + 1);\n",
       "    }\n",
       "}\n",
       "\n",
       "mpl.figure.prototype.handle_save = function(fig, msg) {\n",
       "    fig.ondownload(fig, null);\n",
       "}\n",
       "\n",
       "\n",
       "mpl.find_output_cell = function(html_output) {\n",
       "    // Return the cell and output element which can be found *uniquely* in the notebook.\n",
       "    // Note - this is a bit hacky, but it is done because the \"notebook_saving.Notebook\"\n",
       "    // IPython event is triggered only after the cells have been serialised, which for\n",
       "    // our purposes (turning an active figure into a static one), is too late.\n",
       "    var cells = IPython.notebook.get_cells();\n",
       "    var ncells = cells.length;\n",
       "    for (var i=0; i<ncells; i++) {\n",
       "        var cell = cells[i];\n",
       "        if (cell.cell_type === 'code'){\n",
       "            for (var j=0; j<cell.output_area.outputs.length; j++) {\n",
       "                var data = cell.output_area.outputs[j];\n",
       "                if (data.data) {\n",
       "                    // IPython >= 3 moved mimebundle to data attribute of output\n",
       "                    data = data.data;\n",
       "                }\n",
       "                if (data['text/html'] == html_output) {\n",
       "                    return [cell, data, j];\n",
       "                }\n",
       "            }\n",
       "        }\n",
       "    }\n",
       "}\n",
       "\n",
       "// Register the function which deals with the matplotlib target/channel.\n",
       "// The kernel may be null if the page has been refreshed.\n",
       "if (IPython.notebook.kernel != null) {\n",
       "    IPython.notebook.kernel.comm_manager.register_target('matplotlib', mpl.mpl_figure_comm);\n",
       "}\n"
      ],
      "text/plain": [
       "<IPython.core.display.Javascript object>"
      ]
     },
     "metadata": {},
     "output_type": "display_data"
    },
    {
     "data": {
      "text/html": [
       "<img src=\"data:image/png;base64,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\" width=\"432\">"
      ],
      "text/plain": [
       "<IPython.core.display.HTML object>"
      ]
     },
     "metadata": {},
     "output_type": "display_data"
    },
    {
     "data": {
      "text/plain": [
       "<function matplotlib.pyplot.show(*args, **kw)>"
      ]
     },
     "execution_count": 207,
     "metadata": {},
     "output_type": "execute_result"
    }
   ],
   "source": [
    "fruits.boxplot(column=['width'])\n",
    "plt.show"
   ]
  },
  {
   "cell_type": "code",
   "execution_count": 208,
   "metadata": {},
   "outputs": [],
   "source": [
    "def remove_outlier(col):\n",
    "    sorted(col)\n",
    "    Q1,Q3=col.quantile([0.25,0.75])\n",
    "    IQR=Q3-Q1\n",
    "    lower_range=Q1-(1.5 + IQR)\n",
    "    upper_range = Q3 + (1.5 + IQR)\n",
    "    return lower_range,upper_range\n"
   ]
  },
  {
   "cell_type": "code",
   "execution_count": null,
   "metadata": {},
   "outputs": [],
   "source": []
  },
  {
   "cell_type": "code",
   "execution_count": 209,
   "metadata": {},
   "outputs": [],
   "source": [
    "lowwidth,upwidth = remove_outlier(fruits['width'])\n",
    "fruits['width']=np.where(fruits['width']>upwidth,upwidth,fruits['width'])\n",
    "fruits['width']=np.where(fruits['width']<lowwidth,lowwidth,fruits['width'])\n"
   ]
  },
  {
   "cell_type": "code",
   "execution_count": 210,
   "metadata": {},
   "outputs": [
    {
     "data": {
      "text/plain": [
       "<function matplotlib.pyplot.show(*args, **kw)>"
      ]
     },
     "execution_count": 210,
     "metadata": {},
     "output_type": "execute_result"
    }
   ],
   "source": [
    "fruits.boxplot(column=['width'])\n",
    "plt.show"
   ]
  },
  {
   "cell_type": "code",
   "execution_count": 211,
   "metadata": {},
   "outputs": [
    {
     "data": {
      "text/plain": [
       "<function matplotlib.pyplot.show(*args, **kw)>"
      ]
     },
     "execution_count": 211,
     "metadata": {},
     "output_type": "execute_result"
    }
   ],
   "source": [
    "fruits.boxplot(column=[\"height\"])\n",
    "plt.show"
   ]
  },
  {
   "cell_type": "code",
   "execution_count": 212,
   "metadata": {},
   "outputs": [],
   "source": [
    "lowheight,upheight = remove_outlier(fruits['height'])\n",
    "fruits['height']=np.where(fruits['height']>upwidth,upwidth,fruits['height'])\n",
    "fruits['height']=np.where(fruits['height']<lowwidth,lowwidth,fruits['height'])"
   ]
  },
  {
   "cell_type": "code",
   "execution_count": 213,
   "metadata": {},
   "outputs": [
    {
     "data": {
      "text/plain": [
       "<function matplotlib.pyplot.show(*args, **kw)>"
      ]
     },
     "execution_count": 213,
     "metadata": {},
     "output_type": "execute_result"
    }
   ],
   "source": [
    "fruits.boxplot(column=['height'])\n",
    "plt.show"
   ]
  },
  {
   "cell_type": "code",
   "execution_count": 214,
   "metadata": {},
   "outputs": [],
   "source": [
    "lowmass,upmass = remove_outlier(fruits['mass'])\n",
    "fruits['mass']=np.where(fruits['mass']>upwidth,upwidth,fruits['mass'])\n",
    "fruits['mass']=np.where(fruits['mass']<lowwidth,lowwidth,fruits['mass'])"
   ]
  },
  {
   "cell_type": "code",
   "execution_count": 215,
   "metadata": {},
   "outputs": [
    {
     "data": {
      "text/plain": [
       "<function matplotlib.pyplot.show(*args, **kw)>"
      ]
     },
     "execution_count": 215,
     "metadata": {},
     "output_type": "execute_result"
    }
   ],
   "source": [
    "fruits.boxplot(column=['mass'])\n",
    "plt.show"
   ]
  },
  {
   "cell_type": "code",
   "execution_count": null,
   "metadata": {},
   "outputs": [],
   "source": []
  },
  {
   "cell_type": "code",
   "execution_count": 216,
   "metadata": {},
   "outputs": [],
   "source": [
    "import matplotlib.pyplot as plt\n",
    "plt.bar(fname,fsize,color = ['orange','y'])\n",
    "plt.xlabel('Fruit Name')\n",
    "plt.ylabel('Fruit Count')\n",
    "plt.title('Fruits with Color Dataset')\n",
    "plt.show()"
   ]
  },
  {
   "cell_type": "code",
   "execution_count": 217,
   "metadata": {},
   "outputs": [
    {
     "data": {
      "text/plain": [
       "<function matplotlib.pyplot.show(*args, **kw)>"
      ]
     },
     "execution_count": 217,
     "metadata": {},
     "output_type": "execute_result"
    }
   ],
   "source": [
    "fruits.boxplot(column=['color_score'])\n",
    "plt.show"
   ]
  },
  {
   "cell_type": "code",
   "execution_count": 218,
   "metadata": {},
   "outputs": [],
   "source": [
    "lowcolor,upcolor = remove_outlier(fruits['color_score'])\n",
    "fruits['color_score']=np.where(fruits['color_score']>upwidth,upwidth,fruits['color_score'])\n",
    "fruits['color_score']=np.where(fruits['color_score']<lowwidth,lowwidth,fruits['color_score'])"
   ]
  },
  {
   "cell_type": "code",
   "execution_count": 219,
   "metadata": {},
   "outputs": [
    {
     "data": {
      "text/plain": [
       "<function matplotlib.pyplot.show(*args, **kw)>"
      ]
     },
     "execution_count": 219,
     "metadata": {},
     "output_type": "execute_result"
    }
   ],
   "source": [
    "fruits.boxplot(column=['color_score'])\n",
    "plt.show"
   ]
  },
  {
   "cell_type": "code",
   "execution_count": 2,
   "metadata": {},
   "outputs": [
    {
     "name": "stdout",
     "output_type": "stream",
     "text": [
      "       fruit_label        mass      width     height  color_score\n",
      "count    59.000000   59.000000  59.000000  59.000000    59.000000\n",
      "mean      2.542373  163.118644   7.105085   7.693220     0.762881\n",
      "std       1.208048   55.018832   0.816938   1.361017     0.076857\n",
      "min       1.000000   76.000000   5.800000   4.000000     0.550000\n",
      "25%       1.000000  140.000000   6.600000   7.200000     0.720000\n",
      "50%       3.000000  158.000000   7.200000   7.600000     0.750000\n",
      "75%       4.000000  177.000000   7.500000   8.200000     0.810000\n",
      "max       4.000000  362.000000   9.600000  10.500000     0.930000\n",
      "<class 'pandas.core.frame.DataFrame'>\n",
      "RangeIndex: 59 entries, 0 to 58\n",
      "Data columns (total 6 columns):\n",
      " #   Column       Non-Null Count  Dtype  \n",
      "---  ------       --------------  -----  \n",
      " 0   fruit_label  59 non-null     int64  \n",
      " 1   fruit_name   59 non-null     object \n",
      " 2   mass         59 non-null     int64  \n",
      " 3   width        59 non-null     float64\n",
      " 4   height       59 non-null     float64\n",
      " 5   color_score  59 non-null     float64\n",
      "dtypes: float64(3), int64(2), object(1)\n",
      "memory usage: 2.9+ KB\n"
     ]
    }
   ],
   "source": [
    "import numpy as np # linear algebra\n",
    "import pandas as pd # data processing, CSV file I/O (e.g. pd.read_csv)\n",
    "import seaborn as sns\n",
    "import matplotlib.pyplot as plt # for plotting and visualozing data\n",
    "%matplotlib inline\n",
    "\n",
    "fruits=pd.read_excel(r'C:/Users/Admin/Downloads/SD03Q02/SD03Q02/fruits.xlsx')\n",
    "\n",
    "#checking first five rows of our dataset\n",
    "fruits.head()\n",
    "\n",
    "# Data Description\n",
    "print(fruits.describe())\n",
    "\n",
    "# Data Info\n",
    "fruits.info()\n",
    "\n",
    "# create a mapping from fruit label value to fruit name to make results easier to interpret\n",
    "predct = dict(zip(fruits.fruit_label.unique(), fruits.fruit_name.unique()))   \n",
    "predct\n",
    "\n",
    "#checking how many unique fruit names are present in the dataset\n",
    "fruits['fruit_name'].value_counts()\n",
    "\n",
    "data_imputed = fruits.fillna(fruits.median())\n"
   ]
  },
  {
   "cell_type": "code",
   "execution_count": 3,
   "metadata": {},
   "outputs": [
    {
     "data": {
      "image/png": "[encoded data removed]",
      "text/plain": [
       "<Figure size 1800x1800 with 6 Axes>"
      ]
     },
     "metadata": {
      "needs_background": "light"
     },
     "output_type": "display_data"
    },
    {
     "data": {
      "text/plain": [
       "<Figure size 360x360 with 0 Axes>"
      ]
     },
     "execution_count": 3,
     "metadata": {},
     "output_type": "execute_result"
    },
    {
     "data": {
      "text/plain": [
       "<Figure size 360x360 with 0 Axes>"
      ]
     },
     "metadata": {},
     "output_type": "display_data"
    }
   ],
   "source": [
    "data_imputed.isnull().sum()\n",
    "\n",
    "data_imputed.hist(figsize=(25,25))\n",
    "plt.show()\n",
    "\n",
    "from scipy.stats import zscore\n",
    "from sklearn.preprocessing import MinMaxScaler as MMS\n",
    "\n",
    "z_scores = zscore(data_imputed.iloc[:,2:5])\n",
    "abs_z_scores = np.abs(z_scores)\n",
    "filtered_entries = (abs_z_scores < 3).all(axis=1)\n",
    "data_outlir = data_imputed[filtered_entries]\n",
    "data_outlir.shape\n",
    "\n",
    "scaler = MMS()\n",
    "data_std = scaler.fit_transform(data_outlir.iloc[:,2:6])\n",
    "data_std = pd.DataFrame(data_std)\n",
    "data_std.shape\n",
    "\n",
    "data_va = data_std.var(axis= 0)\n",
    "data_vas = data_va.sort_values(ascending=False)\n",
    "y = data_vas.values \n",
    "x = range(len(y))\n",
    "\n",
    "plt.figure(figsize = (5,5))\n"
   ]
  },
  {
   "cell_type": "code",
   "execution_count": 4,
   "metadata": {},
   "outputs": [
    {
     "data": {
      "image/png": "[encoded data removed]",
      "text/plain": [
       "<Figure size 432x288 with 1 Axes>"
      ]
     },
     "metadata": {
      "needs_background": "light"
     },
     "output_type": "display_data"
    },
    {
     "data": {
      "image/png": "[encoded data removed]",
      "text/plain": [
       "<Figure size 720x720 with 1 Axes>"
      ]
     },
     "metadata": {
      "needs_background": "light"
     },
     "output_type": "display_data"
    }
   ],
   "source": [
    "plt.plot(x, y)\n",
    "plt.title(\"MULTI - COLLINEARITY CHECK\")\n",
    "plt.xlabel(\"Attributes\")\n",
    "plt.ylabel(\"VARIANCES\")\n",
    "plt.show()\n",
    "\n",
    "def correlation(dataset, threshold):\n",
    "    col_corr = set() \n",
    "    corr_matrix = dataset.corr()\n",
    "    for i in range(len(corr_matrix.columns)):\n",
    "        for j in range(i):\n",
    "            if ((abs(corr_matrix.iloc[i, j]) >= threshold) or (abs(corr_matrix.iloc[i, j]) <= (-1*threshold))) and (corr_matrix.columns[j] not in col_corr):\n",
    "                colname = corr_matrix.columns[i] \n",
    "                col_corr.add(colname)\n",
    "                if colname in dataset.columns:\n",
    "                    del dataset[colname] \n",
    "    return dataset\n",
    "\n",
    "from sklearn.preprocessing import LabelEncoder as LE\n",
    "\n",
    "Y = data_outlir['fruit_label']\n",
    "\n",
    "X = correlation(data_std, 0.7)\n",
    "cor = X.corr()\n",
    "figure, axes = plt.subplots(figsize=(10,10))\n"
   ]
  },
  {
   "cell_type": "code",
   "execution_count": 5,
   "metadata": {},
   "outputs": [
    {
     "data": {
      "image/png": "[encoded data removed]",
      "text/plain": [
       "<Figure size 432x288 with 1 Axes>"
      ]
     },
     "metadata": {
      "needs_background": "light"
     },
     "output_type": "display_data"
    },
    {
     "data": {
      "image/png": "[encoded data removed]",
      "text/plain": [
       "<Figure size 432x288 with 1 Axes>"
      ]
     },
     "metadata": {
      "needs_background": "light"
     },
     "output_type": "display_data"
    },
    {
     "data": {
      "image/png": "[encoded data removed]",
      "text/plain": [
       "<Figure size 432x288 with 1 Axes>"
      ]
     },
     "metadata": {
      "needs_background": "light"
     },
     "output_type": "display_data"
    },
    {
     "data": {
      "image/png": "[encoded data removed]",
      "text/plain": [
       "<Figure size 432x288 with 1 Axes>"
      ]
     },
     "metadata": {
      "needs_background": "light"
     },
     "output_type": "display_data"
    },
    {
     "data": {
      "text/plain": [
       "<matplotlib.legend.Legend at 0x2543f339b80>"
      ]
     },
     "execution_count": 5,
     "metadata": {},
     "output_type": "execute_result"
    },
    {
     "data": {
      "image/png": "[encoded data removed]",
      "text/plain": [
       "<Figure size 432x288 with 1 Axes>"
      ]
     },
     "metadata": {
      "needs_background": "light"
     },
     "output_type": "display_data"
    }
   ],
   "source": [
    "sns.heatmap(cor, ax = axes, cmap = \"YlGnBu\", linecolor = 'black')\n",
    "plt.title(\"CORRELATION VISUALIZATION USING HEATMAP\")\n",
    "plt.xlabel(\"FILTERED Attribute\")\n",
    "plt.ylabel(\"FILTERED Attribute\")\n",
    "plt.show()\n",
    "\n",
    "for i in data_std.columns:\n",
    "    plt.scatter( data_outlir['fruit_name'] , data_std[i] )\n",
    "    plt.xlabel('fruits')\n",
    "    plt.ylabel(i)\n",
    "    plt.show()\n",
    "\n",
    "# 1.  scatter visualization\n",
    "\n",
    "sns.scatterplot('width', 'height', data = data_outlir, hue = 'fruit_name', palette = 'Set2', edgecolor = 'b', s = 150, \n",
    "               alpha = 0.7)\n",
    "plt.title('FRUIT WIDTH / FRUIT HEIGHT')\n",
    "plt.xlabel('FRUIT WIDTH')\n",
    "plt.ylabel('FRUIT HEIGHT')\n",
    "plt.legend(loc = 'upper left', fontsize = 12)\n",
    "\n",
    "# 1. Sepal scatter visualization\n",
    "\n",
    "sns.scatterplot('mass', 'color_score', data = data_outlir, hue = 'fruit_name', palette = 'Set2', edgecolor = 'b', s = 150, \n",
    "               alpha = 0.7)\n",
    "plt.title('fruit mass / fruit color_score')\n",
    "plt.xlabel('fruit mass')\n",
    "plt.ylabel('fruit color_score')\n",
    "plt.legend(loc = 'upper left', fontsize = 12)\n",
    "\n",
    "# 1. Sepal scatter visualization\n",
    "\n",
    "sns.scatterplot('mass', 'height', data = data_outlir, hue = 'fruit_name', palette = 'Set2', edgecolor = 'b', s = 150, \n",
    "               alpha = 0.7)\n",
    "plt.title('fruit mass / fruit height')\n",
    "plt.xlabel('fruit mass')\n",
    "plt.ylabel('fruit height')\n",
    "plt.legend(loc = 'upper left', fontsize = 12)\n",
    "\n",
    "# 1. Sepal scatter visualization\n",
    "\n",
    "sns.scatterplot('width', 'color_score', data = data_outlir, hue = 'fruit_name', palette = 'Set2', edgecolor = 'b', s = 150, \n",
    "               alpha = 0.7)\n",
    "plt.title('fruit width / fruit color_score')\n",
    "plt.xlabel('fruit width')\n",
    "plt.ylabel('fruit color_score')\n",
    "plt.legend(loc = 'upper left', fontsize = 12)\n",
    "\n"
   ]
  },
  {
   "cell_type": "code",
   "execution_count": 9,
   "metadata": {},
   "outputs": [],
   "source": [
    "from sklearn.model_selection import train_test_split as TTS\n",
    "\n",
    "X_train, X_test, y_train, y_test = TTS(X, Y, test_size=0.33, random_state=42)\n",
    "\n",
    "from collections import Counter\n",
    "\n",
    "class KNN:\n",
    "    def __init__(self, K):\n",
    "        self.K = K\n",
    "        self.X_train = None\n",
    "        self.y_train = None\n",
    "        \n",
    "    def fit(self, X_train, y_train):\n",
    "        self.X_train = X_train\n",
    "        self.y_train = y_train\n",
    "    \n",
    "    def predict_instance(self, test_instance):\n",
    "        inputs = self.X_train.copy()\n",
    "        # calculate L2 norm between all training points and given test_point\n",
    "        inputs['distance'] = np.linalg.norm(inputs.values-test_instance.values, axis=1)\n",
    "        \n",
    "        # concatenate inputs and labels before sorting the distances\n",
    "        inputs = pd.concat([inputs, self.y_train], axis=1)\n",
    "\n",
    "        # sort based on distance\n",
    "        inputs = inputs.sort_values('distance', ascending=True)\n",
    "\n",
    "        # pick k neighbors\n",
    "        neighbors = inputs.head(self.K)\n",
    "\n",
    "        # get list from dataframe column\n",
    "        classes = neighbors['fruit_label'].tolist()\n",
    "\n",
    "        # create counter of labels\n",
    "        majority_count = Counter(classes)\n",
    "        \n",
    "        return majority_count.most_common(1).pop()[0]        \n"
   ]
  },
  {
   "cell_type": "code",
   "execution_count": 20,
   "metadata": {},
   "outputs": [],
   "source": [
    "\n",
    "def predict(self, X_test):\n",
    "    predictions = np.zeros(X_test.shape[0])\n",
    "    # we want out index to be start from 0\n",
    "    X_test.reset_index(drop=True, inplace=True)\n",
    "    for index, row in X_test.iterrows():\n",
    "        predictions[index] = self.predict_instance(row)\n",
    "        return predictions\n",
    "def cross_validation(n, k, data, n_neighbors):\n",
    "    \"\"\"\n",
    "    n : # iterations\n",
    "    k : k-fold size\n",
    "    data: training data\n",
    "    n_neighbors: k in knn\n",
    "    \"\"\"\n",
    "    accuracies = []\n",
    "    for _ in range(0, n):\n",
    "        # data shuffle\n",
    "        data.sample(frac=1)\n",
    "        fold=int(data.shape[0]/k)\n",
    "        for j in range(k):\n",
    "            #test = data[j*fold:j*fold+fold]\n",
    "            #train = data[~data.index.isin(test.index)]\n",
    "            #X_train, y_train = train.drop('CLASS', axis=1), train['CLASS']\n",
    "            #X_test, y_test = test.drop('CLASS', axis=1), test['CLASS']\n",
    "            knn = KNN(n_neighbors)\n",
    "            knn.fit(X_train, y_train)\n",
    "            \n",
    "            predictions = knn.predict(X_test)\n",
    "            true_values = y_test.to_numpy()\n",
    "            accuracy = np.mean(predictions == true_values)\n",
    "            accuracies.append(accuracy)\n",
    "            return np.array(accuracies).mean()\n",
    "        # We will be using following settings for all the cases below\n",
    "        k_values = np.arange(1, 16)\n",
    "        cross_validation_fold = 10\n",
    "        accuracies = []\n",
    "        for k in k_values:\n",
    "            accuracy = cross_validation(1, cross_validation_fold, data_outlir, k)\n",
    "            accuracies.append(accuracy)\n",
    "            print(accuracies)\n",
    "\n",
    "\n",
    "\n",
    "\n",
    "\n"
   ]
  },
  {
   "cell_type": "code",
   "execution_count": 22,
   "metadata": {},
   "outputs": [],
   "source": [
    "#fig = plt.figure()\n",
    "#plt.plot(k_values, accuracies)\n",
    "#plt.xlabel('k in kNN')\n",
    "#plt.ylabel('CV-Accuracy')\n",
    "#fig.suptitle('kNN hyperparameter (k) tuning with python alone', fontsize=20)\n",
    "\n",
    "from sklearn.model_selection import GridSearchCV\n",
    "\n",
    "metrics = ['euclidean','manhattan'] \n",
    "neighbors = np.arange(1, 60)\n",
    "param_grid  = dict(metric=metrics, n_neighbors=neighbors)\n"
   ]
  },
  {
   "cell_type": "code",
   "execution_count": 25,
   "metadata": {},
   "outputs": [
    {
     "name": "stderr",
     "output_type": "stream",
     "text": [
      "C:\\Users\\Admin\\anaconda3\\lib\\site-packages\\sklearn\\model_selection\\_split.py:670: UserWarning: The least populated class in y has only 1 members, which is less than n_splits=10.\n",
      "  warnings.warn((\"The least populated class in y has only %d\"\n"
     ]
    },
    {
     "name": "stdout",
     "output_type": "stream",
     "text": [
      "Best leaf_size: 1\n",
      "Best p: 1\n",
      "Best n_neighbors: 3\n"
     ]
    },
    {
     "data": {
      "text/plain": [
       "0.7894736842105263"
      ]
     },
     "execution_count": 25,
     "metadata": {},
     "output_type": "execute_result"
    }
   ],
   "source": [
    "param_grid\n",
    "\n",
    "from sklearn.neighbors import KNeighborsClassifier\n",
    "\n",
    "#List Hyperparameters that we want to tune.\n",
    "leaf_size = list(range(1,50))\n",
    "n_neighbors = list(range(1,30))\n",
    "p=[1,2]\n",
    "#Convert to dictionary\n",
    "hyperparameters = dict(leaf_size=leaf_size, n_neighbors=n_neighbors, p=p)\n",
    "#Create new KNN object\n",
    "knn_2 = KNeighborsClassifier()\n",
    "#Use GridSearch\n",
    "clf = GridSearchCV(knn_2, hyperparameters, cv=10)\n",
    "#Fit the model\n",
    "best_model = clf.fit(X_train,y_train)\n",
    "#Print The value of best Hyperparameters\n",
    "print('Best leaf_size:', best_model.best_estimator_.get_params()['leaf_size'])\n",
    "print('Best p:', best_model.best_estimator_.get_params()['p'])\n",
    "print('Best n_neighbors:', best_model.best_estimator_.get_params()['n_neighbors'])\n",
    "\n",
    "clf.score(X_test,y_test)\n",
    "\n"
   ]
  },
  {
   "cell_type": "code",
   "execution_count": 27,
   "metadata": {},
   "outputs": [
    {
     "data": {
      "text/plain": [
       "0.4108527131782945"
      ]
     },
     "execution_count": 27,
     "metadata": {},
     "output_type": "execute_result"
    }
   ],
   "source": [
    "y_pred = clf.predict(X_test)\n",
    "\n",
    "from sklearn.metrics import r2_score\n",
    "r2_score(y_pred,y_test)"
   ]
  },
  {
   "cell_type": "code",
   "execution_count": null,
   "metadata": {},
   "outputs": [],
   "source": []
  },
  {
   "cell_type": "code",
   "execution_count": null,
   "metadata": {},
   "outputs": [],
   "source": []
  },
  {
   "cell_type": "code",
   "execution_count": null,
   "metadata": {},
   "outputs": [],
   "source": []
  },
  {
   "cell_type": "code",
   "execution_count": null,
   "metadata": {},
   "outputs": [],
   "source": []
  },
  {
   "cell_type": "code",
   "execution_count": null,
   "metadata": {},
   "outputs": [],
   "source": []
  },
  {
   "cell_type": "code",
   "execution_count": null,
   "metadata": {},
   "outputs": [],
   "source": []
  },
  {
   "cell_type": "code",
   "execution_count": null,
   "metadata": {},
   "outputs": [],
   "source": []
  },
  {
   "cell_type": "code",
   "execution_count": 180,
   "metadata": {},
   "outputs": [],
   "source": []
  },
  {
   "cell_type": "code",
   "execution_count": null,
   "metadata": {},
   "outputs": [],
   "source": []
  },
  {
   "cell_type": "code",
   "execution_count": null,
   "metadata": {},
   "outputs": [],
   "source": []
  },
  {
   "cell_type": "code",
   "execution_count": 191,
   "metadata": {},
   "outputs": [],
   "source": []
  },
  {
   "cell_type": "code",
   "execution_count": 192,
   "metadata": {},
   "outputs": [],
   "source": []
  },
  {
   "cell_type": "code",
   "execution_count": 196,
   "metadata": {},
   "outputs": [],
   "source": []
  },
  {
   "cell_type": "code",
   "execution_count": 197,
   "metadata": {},
   "outputs": [],
   "source": []
  },
  {
   "cell_type": "code",
   "execution_count": null,
   "metadata": {},
   "outputs": [],
   "source": []
  },
  {
   "cell_type": "code",
   "execution_count": null,
   "metadata": {},
   "outputs": [],
   "source": []
  },
  {
   "cell_type": "code",
   "execution_count": 173,
   "metadata": {},
   "outputs": [],
   "source": []
  },
  {
   "cell_type": "code",
   "execution_count": null,
   "metadata": {},
   "outputs": [],
   "source": []
  },
  {
   "cell_type": "code",
   "execution_count": null,
   "metadata": {},
   "outputs": [],
   "source": []
  },
  {
   "cell_type": "code",
   "execution_count": null,
   "metadata": {},
   "outputs": [],
   "source": []
  },
  {
   "cell_type": "code",
   "execution_count": null,
   "metadata": {},
   "outputs": [],
   "source": []
  }
 ],
 "metadata": {
  "kernelspec": {
   "display_name": "Python 3",
   "language": "python",
   "name": "python3"
  },
  "language_info": {
   "codemirror_mode": {
    "name": "ipython",
    "version": 3
   },
   "file_extension": ".py",
   "mimetype": "text/x-python",
   "name": "python",
   "nbconvert_exporter": "python",
   "pygments_lexer": "ipython3",
   "version": "3.8.3"
  }
 },
 "nbformat": 4,
 "nbformat_minor": 4
}
